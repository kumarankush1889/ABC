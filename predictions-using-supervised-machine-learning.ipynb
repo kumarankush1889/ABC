{
 "cells": [
  {
   "cell_type": "markdown",
   "id": "healthy-suggestion",
   "metadata": {
    "papermill": {
     "duration": 0.015541,
     "end_time": "2021-07-02T18:49:24.054740",
     "exception": false,
     "start_time": "2021-07-02T18:49:24.039199",
     "status": "completed"
    },
    "tags": []
   },
   "source": [
    "****"
   ]
  },
  {
   "cell_type": "markdown",
   "id": "domestic-taylor",
   "metadata": {
    "papermill": {
     "duration": 0.013661,
     "end_time": "2021-07-02T18:49:24.083107",
     "exception": false,
     "start_time": "2021-07-02T18:49:24.069446",
     "status": "completed"
    },
    "tags": []
   },
   "source": [
    "**AUTHOR: ANKUSH KUMAR MAHTO**\n",
    "\n",
    "**GRIP at The Sparks Foundation Task 1 : Predictions Using Supervised Machine Learning**\n",
    "\n",
    "**Dscription: We have to predict the percentage of the student based on the hours studied by student. Also we have to predict the score if a student studies for 9.25 hrs/day. since it involves only two variables, this is a simple linear regression task.**\n",
    "\n",
    "**step-1 Import the libraries**"
   ]
  },
  {
   "cell_type": "code",
   "execution_count": 1,
   "id": "secondary-brisbane",
   "metadata": {
    "execution": {
     "iopub.execute_input": "2021-07-02T18:49:24.114733Z",
     "iopub.status.busy": "2021-07-02T18:49:24.113828Z",
     "iopub.status.idle": "2021-07-02T18:49:25.277036Z",
     "shell.execute_reply": "2021-07-02T18:49:25.277437Z",
     "shell.execute_reply.started": "2021-07-02T18:24:49.170774Z"
    },
    "papermill": {
     "duration": 1.180357,
     "end_time": "2021-07-02T18:49:25.277756",
     "exception": false,
     "start_time": "2021-07-02T18:49:24.097399",
     "status": "completed"
    },
    "tags": []
   },
   "outputs": [],
   "source": [
    "import pandas as pd\n",
    "import numpy as np\n",
    "import matplotlib.pyplot as plt\n",
    "import seaborn as sns\n",
    "from sklearn.linear_model import LinearRegression\n",
    "from sklearn.model_selection import train_test_split\n"
   ]
  },
  {
   "cell_type": "markdown",
   "id": "modern-breeding",
   "metadata": {
    "papermill": {
     "duration": 0.015252,
     "end_time": "2021-07-02T18:49:25.307373",
     "exception": false,
     "start_time": "2021-07-02T18:49:25.292121",
     "status": "completed"
    },
    "tags": []
   },
   "source": [
    "**step-2 read the data from data set"
   ]
  },
  {
   "cell_type": "code",
   "execution_count": 2,
   "id": "dominant-original",
   "metadata": {
    "execution": {
     "iopub.execute_input": "2021-07-02T18:49:25.348365Z",
     "iopub.status.busy": "2021-07-02T18:49:25.347536Z",
     "iopub.status.idle": "2021-07-02T18:49:25.854625Z",
     "shell.execute_reply": "2021-07-02T18:49:25.855078Z",
     "shell.execute_reply.started": "2021-07-02T18:24:49.178054Z"
    },
    "papermill": {
     "duration": 0.533402,
     "end_time": "2021-07-02T18:49:25.855241",
     "exception": false,
     "start_time": "2021-07-02T18:49:25.321839",
     "status": "completed"
    },
    "tags": []
   },
   "outputs": [],
   "source": [
    "url=\"https://raw.githubusercontent.com/AdiPersonalWorks/Random/master/student_scores%20-%20student_scores.csv\"\n",
    "student_data = pd.read_csv(url)"
   ]
  },
  {
   "cell_type": "code",
   "execution_count": 3,
   "id": "scheduled-candy",
   "metadata": {
    "execution": {
     "iopub.execute_input": "2021-07-02T18:49:25.887018Z",
     "iopub.status.busy": "2021-07-02T18:49:25.886193Z",
     "iopub.status.idle": "2021-07-02T18:49:25.911149Z",
     "shell.execute_reply": "2021-07-02T18:49:25.911628Z",
     "shell.execute_reply.started": "2021-07-02T18:24:49.753799Z"
    },
    "papermill": {
     "duration": 0.041996,
     "end_time": "2021-07-02T18:49:25.911803",
     "exception": false,
     "start_time": "2021-07-02T18:49:25.869807",
     "status": "completed"
    },
    "tags": []
   },
   "outputs": [
    {
     "name": "stdout",
     "output_type": "stream",
     "text": [
      "(25, 2)\n"
     ]
    },
    {
     "data": {
      "text/html": [
       "<div>\n",
       "<style scoped>\n",
       "    .dataframe tbody tr th:only-of-type {\n",
       "        vertical-align: middle;\n",
       "    }\n",
       "\n",
       "    .dataframe tbody tr th {\n",
       "        vertical-align: top;\n",
       "    }\n",
       "\n",
       "    .dataframe thead th {\n",
       "        text-align: right;\n",
       "    }\n",
       "</style>\n",
       "<table border=\"1\" class=\"dataframe\">\n",
       "  <thead>\n",
       "    <tr style=\"text-align: right;\">\n",
       "      <th></th>\n",
       "      <th>Hours</th>\n",
       "      <th>Scores</th>\n",
       "    </tr>\n",
       "  </thead>\n",
       "  <tbody>\n",
       "    <tr>\n",
       "      <th>0</th>\n",
       "      <td>2.5</td>\n",
       "      <td>21</td>\n",
       "    </tr>\n",
       "    <tr>\n",
       "      <th>1</th>\n",
       "      <td>5.1</td>\n",
       "      <td>47</td>\n",
       "    </tr>\n",
       "    <tr>\n",
       "      <th>2</th>\n",
       "      <td>3.2</td>\n",
       "      <td>27</td>\n",
       "    </tr>\n",
       "    <tr>\n",
       "      <th>3</th>\n",
       "      <td>8.5</td>\n",
       "      <td>75</td>\n",
       "    </tr>\n",
       "    <tr>\n",
       "      <th>4</th>\n",
       "      <td>3.5</td>\n",
       "      <td>30</td>\n",
       "    </tr>\n",
       "  </tbody>\n",
       "</table>\n",
       "</div>"
      ],
      "text/plain": [
       "   Hours  Scores\n",
       "0    2.5      21\n",
       "1    5.1      47\n",
       "2    3.2      27\n",
       "3    8.5      75\n",
       "4    3.5      30"
      ]
     },
     "execution_count": 3,
     "metadata": {},
     "output_type": "execute_result"
    }
   ],
   "source": [
    "print(student_data.shape)\n",
    "student_data.head()"
   ]
  },
  {
   "cell_type": "code",
   "execution_count": 4,
   "id": "centered-christianity",
   "metadata": {
    "execution": {
     "iopub.execute_input": "2021-07-02T18:49:25.948671Z",
     "iopub.status.busy": "2021-07-02T18:49:25.948050Z",
     "iopub.status.idle": "2021-07-02T18:49:25.962100Z",
     "shell.execute_reply": "2021-07-02T18:49:25.961604Z",
     "shell.execute_reply.started": "2021-07-02T18:24:49.768334Z"
    },
    "papermill": {
     "duration": 0.03576,
     "end_time": "2021-07-02T18:49:25.962227",
     "exception": false,
     "start_time": "2021-07-02T18:49:25.926467",
     "status": "completed"
    },
    "tags": []
   },
   "outputs": [
    {
     "data": {
      "text/html": [
       "<div>\n",
       "<style scoped>\n",
       "    .dataframe tbody tr th:only-of-type {\n",
       "        vertical-align: middle;\n",
       "    }\n",
       "\n",
       "    .dataframe tbody tr th {\n",
       "        vertical-align: top;\n",
       "    }\n",
       "\n",
       "    .dataframe thead th {\n",
       "        text-align: right;\n",
       "    }\n",
       "</style>\n",
       "<table border=\"1\" class=\"dataframe\">\n",
       "  <thead>\n",
       "    <tr style=\"text-align: right;\">\n",
       "      <th></th>\n",
       "      <th>Hours</th>\n",
       "      <th>Scores</th>\n",
       "    </tr>\n",
       "  </thead>\n",
       "  <tbody>\n",
       "    <tr>\n",
       "      <th>count</th>\n",
       "      <td>25.000000</td>\n",
       "      <td>25.000000</td>\n",
       "    </tr>\n",
       "    <tr>\n",
       "      <th>mean</th>\n",
       "      <td>5.012000</td>\n",
       "      <td>51.480000</td>\n",
       "    </tr>\n",
       "    <tr>\n",
       "      <th>std</th>\n",
       "      <td>2.525094</td>\n",
       "      <td>25.286887</td>\n",
       "    </tr>\n",
       "    <tr>\n",
       "      <th>min</th>\n",
       "      <td>1.100000</td>\n",
       "      <td>17.000000</td>\n",
       "    </tr>\n",
       "    <tr>\n",
       "      <th>25%</th>\n",
       "      <td>2.700000</td>\n",
       "      <td>30.000000</td>\n",
       "    </tr>\n",
       "    <tr>\n",
       "      <th>50%</th>\n",
       "      <td>4.800000</td>\n",
       "      <td>47.000000</td>\n",
       "    </tr>\n",
       "    <tr>\n",
       "      <th>75%</th>\n",
       "      <td>7.400000</td>\n",
       "      <td>75.000000</td>\n",
       "    </tr>\n",
       "    <tr>\n",
       "      <th>max</th>\n",
       "      <td>9.200000</td>\n",
       "      <td>95.000000</td>\n",
       "    </tr>\n",
       "  </tbody>\n",
       "</table>\n",
       "</div>"
      ],
      "text/plain": [
       "           Hours     Scores\n",
       "count  25.000000  25.000000\n",
       "mean    5.012000  51.480000\n",
       "std     2.525094  25.286887\n",
       "min     1.100000  17.000000\n",
       "25%     2.700000  30.000000\n",
       "50%     4.800000  47.000000\n",
       "75%     7.400000  75.000000\n",
       "max     9.200000  95.000000"
      ]
     },
     "execution_count": 4,
     "metadata": {},
     "output_type": "execute_result"
    }
   ],
   "source": [
    "student_data.describe()"
   ]
  },
  {
   "cell_type": "markdown",
   "id": "aggregate-skating",
   "metadata": {
    "papermill": {
     "duration": 0.014508,
     "end_time": "2021-07-02T18:49:25.991836",
     "exception": false,
     "start_time": "2021-07-02T18:49:25.977328",
     "status": "completed"
    },
    "tags": []
   },
   "source": [
    "**checking the missing values**"
   ]
  },
  {
   "cell_type": "code",
   "execution_count": 5,
   "id": "naked-reminder",
   "metadata": {
    "execution": {
     "iopub.execute_input": "2021-07-02T18:49:26.024919Z",
     "iopub.status.busy": "2021-07-02T18:49:26.024087Z",
     "iopub.status.idle": "2021-07-02T18:49:26.038828Z",
     "shell.execute_reply": "2021-07-02T18:49:26.038357Z",
     "shell.execute_reply.started": "2021-07-02T18:24:49.795583Z"
    },
    "papermill": {
     "duration": 0.032212,
     "end_time": "2021-07-02T18:49:26.038962",
     "exception": false,
     "start_time": "2021-07-02T18:49:26.006750",
     "status": "completed"
    },
    "tags": []
   },
   "outputs": [
    {
     "name": "stdout",
     "output_type": "stream",
     "text": [
      "<class 'pandas.core.frame.DataFrame'>\n",
      "RangeIndex: 25 entries, 0 to 24\n",
      "Data columns (total 2 columns):\n",
      " #   Column  Non-Null Count  Dtype  \n",
      "---  ------  --------------  -----  \n",
      " 0   Hours   25 non-null     float64\n",
      " 1   Scores  25 non-null     int64  \n",
      "dtypes: float64(1), int64(1)\n",
      "memory usage: 528.0 bytes\n"
     ]
    }
   ],
   "source": [
    "student_data.info()"
   ]
  },
  {
   "cell_type": "markdown",
   "id": "endless-visiting",
   "metadata": {
    "papermill": {
     "duration": 0.014955,
     "end_time": "2021-07-02T18:49:26.069694",
     "exception": false,
     "start_time": "2021-07-02T18:49:26.054739",
     "status": "completed"
    },
    "tags": []
   },
   "source": [
    "**So, As we can see, there is no missing values in our data.**\n",
    "\n",
    "**Step-3 Visualising Dataset**"
   ]
  },
  {
   "cell_type": "code",
   "execution_count": 6,
   "id": "passive-packet",
   "metadata": {
    "execution": {
     "iopub.execute_input": "2021-07-02T18:49:26.103515Z",
     "iopub.status.busy": "2021-07-02T18:49:26.102682Z",
     "iopub.status.idle": "2021-07-02T18:49:26.307619Z",
     "shell.execute_reply": "2021-07-02T18:49:26.308079Z",
     "shell.execute_reply.started": "2021-07-02T18:24:49.811508Z"
    },
    "papermill": {
     "duration": 0.223384,
     "end_time": "2021-07-02T18:49:26.308241",
     "exception": false,
     "start_time": "2021-07-02T18:49:26.084857",
     "status": "completed"
    },
    "tags": []
   },
   "outputs": [
    {
     "data": {
      "image/png": "[encoded data removed]",
      "text/plain": [
       "<Figure size 432x288 with 1 Axes>"
      ]
     },
     "metadata": {
      "needs_background": "light"
     },
     "output_type": "display_data"
    }
   ],
   "source": [
    "#plotting the distribution of scores\n",
    "student_data.plot(x='Hours',y='Scores', style='*')\n",
    "plt.title('HOURS VS PRECENTAGE SCORE')\n",
    "plt.xlabel('NO. of hours studied')\n",
    "plt.ylabel('precentage score')\n",
    "plt.show()"
   ]
  },
  {
   "cell_type": "markdown",
   "id": "broke-embassy",
   "metadata": {
    "papermill": {
     "duration": 0.015851,
     "end_time": "2021-07-02T18:49:26.340119",
     "exception": false,
     "start_time": "2021-07-02T18:49:26.324268",
     "status": "completed"
    },
    "tags": []
   },
   "source": [
    "**after visualising the plot, we can predict a positive linear relation between the number of hours studied and precentage of score.**"
   ]
  },
  {
   "cell_type": "code",
   "execution_count": 7,
   "id": "normal-halloween",
   "metadata": {
    "execution": {
     "iopub.execute_input": "2021-07-02T18:49:26.381977Z",
     "iopub.status.busy": "2021-07-02T18:49:26.381399Z",
     "iopub.status.idle": "2021-07-02T18:49:26.385659Z",
     "shell.execute_reply": "2021-07-02T18:49:26.386135Z",
     "shell.execute_reply.started": "2021-07-02T18:24:50.001258Z"
    },
    "papermill": {
     "duration": 0.030241,
     "end_time": "2021-07-02T18:49:26.386289",
     "exception": false,
     "start_time": "2021-07-02T18:49:26.356048",
     "status": "completed"
    },
    "tags": []
   },
   "outputs": [
    {
     "data": {
      "text/html": [
       "<div>\n",
       "<style scoped>\n",
       "    .dataframe tbody tr th:only-of-type {\n",
       "        vertical-align: middle;\n",
       "    }\n",
       "\n",
       "    .dataframe tbody tr th {\n",
       "        vertical-align: top;\n",
       "    }\n",
       "\n",
       "    .dataframe thead th {\n",
       "        text-align: right;\n",
       "    }\n",
       "</style>\n",
       "<table border=\"1\" class=\"dataframe\">\n",
       "  <thead>\n",
       "    <tr style=\"text-align: right;\">\n",
       "      <th></th>\n",
       "      <th>Hours</th>\n",
       "      <th>Scores</th>\n",
       "    </tr>\n",
       "  </thead>\n",
       "  <tbody>\n",
       "    <tr>\n",
       "      <th>Hours</th>\n",
       "      <td>1.000000</td>\n",
       "      <td>0.976191</td>\n",
       "    </tr>\n",
       "    <tr>\n",
       "      <th>Scores</th>\n",
       "      <td>0.976191</td>\n",
       "      <td>1.000000</td>\n",
       "    </tr>\n",
       "  </tbody>\n",
       "</table>\n",
       "</div>"
      ],
      "text/plain": [
       "           Hours    Scores\n",
       "Hours   1.000000  0.976191\n",
       "Scores  0.976191  1.000000"
      ]
     },
     "execution_count": 7,
     "metadata": {},
     "output_type": "execute_result"
    }
   ],
   "source": [
    "# check the corerlation between No. of hours and percentage scores.\n",
    "student_data.corr()"
   ]
  },
  {
   "cell_type": "markdown",
   "id": "informative-injection",
   "metadata": {
    "papermill": {
     "duration": 0.016111,
     "end_time": "2021-07-02T18:49:26.418728",
     "exception": false,
     "start_time": "2021-07-02T18:49:26.402617",
     "status": "completed"
    },
    "tags": []
   },
   "source": [
    "**This shows the positive correlation between No. of hours and percentage scores**"
   ]
  },
  {
   "cell_type": "code",
   "execution_count": 8,
   "id": "executed-jacksonville",
   "metadata": {
    "execution": {
     "iopub.execute_input": "2021-07-02T18:49:26.454055Z",
     "iopub.status.busy": "2021-07-02T18:49:26.453531Z",
     "iopub.status.idle": "2021-07-02T18:49:26.457647Z",
     "shell.execute_reply": "2021-07-02T18:49:26.458135Z",
     "shell.execute_reply.started": "2021-07-02T18:24:50.012552Z"
    },
    "papermill": {
     "duration": 0.023227,
     "end_time": "2021-07-02T18:49:26.458290",
     "exception": false,
     "start_time": "2021-07-02T18:49:26.435063",
     "status": "completed"
    },
    "tags": []
   },
   "outputs": [],
   "source": [
    "# slicing the data by iloc Function\n",
    "X = student_data.iloc[:,:-1].values\n",
    "Y = student_data.iloc[:,1].values"
   ]
  },
  {
   "cell_type": "markdown",
   "id": "fifty-volume",
   "metadata": {
    "papermill": {
     "duration": 0.015879,
     "end_time": "2021-07-02T18:49:26.490473",
     "exception": false,
     "start_time": "2021-07-02T18:49:26.474594",
     "status": "completed"
    },
    "tags": []
   },
   "source": []
  },
  {
   "cell_type": "markdown",
   "id": "japanese-practice",
   "metadata": {
    "papermill": {
     "duration": 0.015642,
     "end_time": "2021-07-02T18:49:26.522197",
     "exception": false,
     "start_time": "2021-07-02T18:49:26.506555",
     "status": "completed"
    },
    "tags": []
   },
   "source": [
    "**# step-5 Model Training**\n",
    "\n",
    "**split the data into training and testing sets, and train the model**"
   ]
  },
  {
   "cell_type": "code",
   "execution_count": 9,
   "id": "auburn-cinema",
   "metadata": {
    "execution": {
     "iopub.execute_input": "2021-07-02T18:49:26.556866Z",
     "iopub.status.busy": "2021-07-02T18:49:26.556328Z",
     "iopub.status.idle": "2021-07-02T18:49:26.576339Z",
     "shell.execute_reply": "2021-07-02T18:49:26.575866Z",
     "shell.execute_reply.started": "2021-07-02T18:24:50.026859Z"
    },
    "papermill": {
     "duration": 0.0384,
     "end_time": "2021-07-02T18:49:26.576467",
     "exception": false,
     "start_time": "2021-07-02T18:49:26.538067",
     "status": "completed"
    },
    "tags": []
   },
   "outputs": [
    {
     "data": {
      "text/plain": [
       "LinearRegression()"
      ]
     },
     "execution_count": 9,
     "metadata": {},
     "output_type": "execute_result"
    }
   ],
   "source": [
    "#train the model\n",
    "X_train, X_test, Y_train, Y_test = train_test_split( X,Y, test_size=0.2, random_state=0)\n",
    "regressor=LinearRegression()\n",
    "regressor.fit(X_train.reshape(-1,1),Y_train)"
   ]
  },
  {
   "cell_type": "markdown",
   "id": "normal-respondent",
   "metadata": {
    "papermill": {
     "duration": 0.016407,
     "end_time": "2021-07-02T18:49:26.610170",
     "exception": false,
     "start_time": "2021-07-02T18:49:26.593763",
     "status": "completed"
    },
    "tags": []
   },
   "source": [
    "**step-6 Visualising the data**\n"
   ]
  },
  {
   "cell_type": "code",
   "execution_count": 10,
   "id": "imposed-venue",
   "metadata": {
    "execution": {
     "iopub.execute_input": "2021-07-02T18:49:26.649471Z",
     "iopub.status.busy": "2021-07-02T18:49:26.648899Z",
     "iopub.status.idle": "2021-07-02T18:49:26.781511Z",
     "shell.execute_reply": "2021-07-02T18:49:26.781889Z",
     "shell.execute_reply.started": "2021-07-02T18:24:50.047056Z"
    },
    "papermill": {
     "duration": 0.15506,
     "end_time": "2021-07-02T18:49:26.782056",
     "exception": false,
     "start_time": "2021-07-02T18:49:26.626996",
     "status": "completed"
    },
    "tags": []
   },
   "outputs": [
    {
     "data": {
      "image/png": "[encoded data removed]",
      "text/plain": [
       "<Figure size 432x288 with 1 Axes>"
      ]
     },
     "metadata": {
      "needs_background": "light"
     },
     "output_type": "display_data"
    }
   ],
   "source": [
    "#plotting the regression line\n",
    "line = regressor.coef_*X+regressor.intercept_\n",
    "\n",
    "#plotting for the test data\n",
    "plt.scatter(X,Y)\n",
    "plt.plot(X, line, color='red');\n",
    "plt.xlabel('No. of hours studued',fontsize=15)\n",
    "plt.ylabel('Score in Percentage',fontsize=15)\n",
    "plt.show()\n"
   ]
  },
  {
   "cell_type": "markdown",
   "id": "drawn-jerusalem",
   "metadata": {
    "papermill": {
     "duration": 0.016714,
     "end_time": "2021-07-02T18:49:26.815683",
     "exception": false,
     "start_time": "2021-07-02T18:49:26.798969",
     "status": "completed"
    },
    "tags": []
   },
   "source": [
    "**step-7 Making Predictions**"
   ]
  },
  {
   "cell_type": "code",
   "execution_count": 11,
   "id": "destroyed-victorian",
   "metadata": {
    "execution": {
     "iopub.execute_input": "2021-07-02T18:49:26.854842Z",
     "iopub.status.busy": "2021-07-02T18:49:26.854206Z",
     "iopub.status.idle": "2021-07-02T18:49:26.857163Z",
     "shell.execute_reply": "2021-07-02T18:49:26.857531Z",
     "shell.execute_reply.started": "2021-07-02T18:24:50.207377Z"
    },
    "papermill": {
     "duration": 0.02499,
     "end_time": "2021-07-02T18:49:26.857686",
     "exception": false,
     "start_time": "2021-07-02T18:49:26.832696",
     "status": "completed"
    },
    "tags": []
   },
   "outputs": [
    {
     "name": "stdout",
     "output_type": "stream",
     "text": [
      "[[1.5]\n",
      " [3.2]\n",
      " [7.4]\n",
      " [2.5]\n",
      " [5.9]]\n"
     ]
    }
   ],
   "source": [
    "# Testing data\n",
    "print(X_test)\n",
    "# Model Prediction\n",
    "Y_pred = regressor.predict(X_test)"
   ]
  },
  {
   "cell_type": "markdown",
   "id": "dramatic-membership",
   "metadata": {
    "papermill": {
     "duration": 0.016765,
     "end_time": "2021-07-02T18:49:26.891568",
     "exception": false,
     "start_time": "2021-07-02T18:49:26.874803",
     "status": "completed"
    },
    "tags": []
   },
   "source": [
    "**step-8 compare actual result to the predicted result**"
   ]
  },
  {
   "cell_type": "code",
   "execution_count": 12,
   "id": "honey-connecticut",
   "metadata": {
    "execution": {
     "iopub.execute_input": "2021-07-02T18:49:26.934901Z",
     "iopub.status.busy": "2021-07-02T18:49:26.934110Z",
     "iopub.status.idle": "2021-07-02T18:49:26.938201Z",
     "shell.execute_reply": "2021-07-02T18:49:26.937669Z",
     "shell.execute_reply.started": "2021-07-02T18:24:50.216784Z"
    },
    "papermill": {
     "duration": 0.029436,
     "end_time": "2021-07-02T18:49:26.938322",
     "exception": false,
     "start_time": "2021-07-02T18:49:26.908886",
     "status": "completed"
    },
    "tags": []
   },
   "outputs": [
    {
     "data": {
      "text/html": [
       "<div>\n",
       "<style scoped>\n",
       "    .dataframe tbody tr th:only-of-type {\n",
       "        vertical-align: middle;\n",
       "    }\n",
       "\n",
       "    .dataframe tbody tr th {\n",
       "        vertical-align: top;\n",
       "    }\n",
       "\n",
       "    .dataframe thead th {\n",
       "        text-align: right;\n",
       "    }\n",
       "</style>\n",
       "<table border=\"1\" class=\"dataframe\">\n",
       "  <thead>\n",
       "    <tr style=\"text-align: right;\">\n",
       "      <th></th>\n",
       "      <th>Actual</th>\n",
       "      <th>Predicted</th>\n",
       "    </tr>\n",
       "  </thead>\n",
       "  <tbody>\n",
       "    <tr>\n",
       "      <th>0</th>\n",
       "      <td>20</td>\n",
       "      <td>16.884145</td>\n",
       "    </tr>\n",
       "    <tr>\n",
       "      <th>1</th>\n",
       "      <td>27</td>\n",
       "      <td>33.732261</td>\n",
       "    </tr>\n",
       "    <tr>\n",
       "      <th>2</th>\n",
       "      <td>69</td>\n",
       "      <td>75.357018</td>\n",
       "    </tr>\n",
       "    <tr>\n",
       "      <th>3</th>\n",
       "      <td>30</td>\n",
       "      <td>26.794801</td>\n",
       "    </tr>\n",
       "    <tr>\n",
       "      <th>4</th>\n",
       "      <td>62</td>\n",
       "      <td>60.491033</td>\n",
       "    </tr>\n",
       "  </tbody>\n",
       "</table>\n",
       "</div>"
      ],
      "text/plain": [
       "   Actual  Predicted\n",
       "0      20  16.884145\n",
       "1      27  33.732261\n",
       "2      69  75.357018\n",
       "3      30  26.794801\n",
       "4      62  60.491033"
      ]
     },
     "execution_count": 12,
     "metadata": {},
     "output_type": "execute_result"
    }
   ],
   "source": [
    "# Actual vs Predicted\n",
    "df = pd.DataFrame({'Actual':Y_test,'Predicted':Y_pred})\n",
    "df"
   ]
  },
  {
   "cell_type": "markdown",
   "id": "subjective-movie",
   "metadata": {
    "papermill": {
     "duration": 0.017169,
     "end_time": "2021-07-02T18:49:26.973078",
     "exception": false,
     "start_time": "2021-07-02T18:49:26.955909",
     "status": "completed"
    },
    "tags": []
   },
   "source": [
    "**step-9 Predict the score for 9.25 Hours/Day**"
   ]
  },
  {
   "cell_type": "code",
   "execution_count": 13,
   "id": "olympic-courage",
   "metadata": {
    "execution": {
     "iopub.execute_input": "2021-07-02T18:49:27.012743Z",
     "iopub.status.busy": "2021-07-02T18:49:27.011994Z",
     "iopub.status.idle": "2021-07-02T18:49:27.014502Z",
     "shell.execute_reply": "2021-07-02T18:49:27.014874Z",
     "shell.execute_reply.started": "2021-07-02T18:24:50.238232Z"
    },
    "papermill": {
     "duration": 0.024488,
     "end_time": "2021-07-02T18:49:27.015040",
     "exception": false,
     "start_time": "2021-07-02T18:49:26.990552",
     "status": "completed"
    },
    "tags": []
   },
   "outputs": [],
   "source": [
    "X = 9.25\n",
    "predicted_score = regressor.predict([[X]])"
   ]
  },
  {
   "cell_type": "code",
   "execution_count": 14,
   "id": "heard-county",
   "metadata": {
    "execution": {
     "iopub.execute_input": "2021-07-02T18:49:27.054603Z",
     "iopub.status.busy": "2021-07-02T18:49:27.054039Z",
     "iopub.status.idle": "2021-07-02T18:49:27.057633Z",
     "shell.execute_reply": "2021-07-02T18:49:27.058050Z",
     "shell.execute_reply.started": "2021-07-02T18:24:50.251437Z"
    },
    "papermill": {
     "duration": 0.025566,
     "end_time": "2021-07-02T18:49:27.058218",
     "exception": false,
     "start_time": "2021-07-02T18:49:27.032652",
     "status": "completed"
    },
    "tags": []
   },
   "outputs": [
    {
     "name": "stdout",
     "output_type": "stream",
     "text": [
      "No. of hours = 9.25\n",
      "predicted_score = [93.69173249]\n"
     ]
    }
   ],
   "source": [
    "print(f'No. of hours = {X}')\n",
    "print(f'predicted_score = {predicted_score}')\n"
   ]
  },
  {
   "cell_type": "markdown",
   "id": "tight-panic",
   "metadata": {
    "papermill": {
     "duration": 0.017709,
     "end_time": "2021-07-02T18:49:27.094311",
     "exception": false,
     "start_time": "2021-07-02T18:49:27.076602",
     "status": "completed"
    },
    "tags": []
   },
   "source": [
    "**predicted score for who studied for 9.25 Hours/Day is 93.69173249%**"
   ]
  },
  {
   "cell_type": "markdown",
   "id": "southeast-hello",
   "metadata": {
    "papermill": {
     "duration": 0.017571,
     "end_time": "2021-07-02T18:49:27.129758",
     "exception": false,
     "start_time": "2021-07-02T18:49:27.112187",
     "status": "completed"
    },
    "tags": []
   },
   "source": [
    "**step-10 Evaluating the model**"
   ]
  },
  {
   "cell_type": "code",
   "execution_count": 15,
   "id": "lyric-toyota",
   "metadata": {
    "execution": {
     "iopub.execute_input": "2021-07-02T18:49:27.171690Z",
     "iopub.status.busy": "2021-07-02T18:49:27.170984Z",
     "iopub.status.idle": "2021-07-02T18:49:27.174403Z",
     "shell.execute_reply": "2021-07-02T18:49:27.173917Z",
     "shell.execute_reply.started": "2021-07-02T18:24:50.265061Z"
    },
    "papermill": {
     "duration": 0.026385,
     "end_time": "2021-07-02T18:49:27.174545",
     "exception": false,
     "start_time": "2021-07-02T18:49:27.148160",
     "status": "completed"
    },
    "tags": []
   },
   "outputs": [
    {
     "name": "stdout",
     "output_type": "stream",
     "text": [
      "Mean Absolute Error 4.183859899002982\n",
      "Mean Squared Error 21.598769307217456\n"
     ]
    }
   ],
   "source": [
    "from sklearn import metrics\n",
    "print(\"Mean Absolute Error\",metrics.mean_absolute_error(Y_test,Y_pred))\n",
    "print(\"Mean Squared Error\",metrics.mean_squared_error(Y_test,Y_pred))"
   ]
  },
  {
   "cell_type": "markdown",
   "id": "literary-former",
   "metadata": {
    "papermill": {
     "duration": 0.017725,
     "end_time": "2021-07-02T18:49:27.210115",
     "exception": false,
     "start_time": "2021-07-02T18:49:27.192390",
     "status": "completed"
    },
    "tags": []
   },
   "source": [
    "**THANK YOU.**"
   ]
  }
 ],
 "metadata": {
  "kernelspec": {
   "display_name": "Python 3",
   "language": "python",
   "name": "python3"
  },
  "language_info": {
   "codemirror_mode": {
    "name": "ipython",
    "version": 3
   },
   "file_extension": ".py",
   "mimetype": "text/x-python",
   "name": "python",
   "nbconvert_exporter": "python",
   "pygments_lexer": "ipython3",
   "version": "3.7.9"
  },
  "papermill": {
   "default_parameters": {},
   "duration": 9.006762,
   "end_time": "2021-07-02T18:49:27.837720",
   "environment_variables": {},
   "exception": null,
   "input_path": "__notebook__.ipynb",
   "output_path": "__notebook__.ipynb",
   "parameters": {},
   "start_time": "2021-07-02T18:49:18.830958",
   "version": "2.3.2"
  }
 },
 "nbformat": 4,
 "nbformat_minor": 5
}
